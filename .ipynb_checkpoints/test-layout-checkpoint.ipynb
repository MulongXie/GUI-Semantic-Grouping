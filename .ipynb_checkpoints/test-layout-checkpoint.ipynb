{
 "cells": [
  {
   "cell_type": "code",
   "execution_count": 1,
   "metadata": {},
   "outputs": [],
   "source": [
    "from GUI import GUI\n",
    "from layout.obj.Compo import Compo\n",
    "import layout.lib.pairing as pairing\n",
    "import layout.lib.repetition_recognition as rep\n",
    "import layout.lib.draw as draw\n",
    "from sklearn.cluster import DBSCAN\n",
    "\n",
    "import cv2\n",
    "import pandas as pd\n",
    "import math\n",
    "import numpy as np\n",
    "import os\n",
    "from os.path import join as pjoin"
   ]
  },
  {
   "cell_type": "code",
   "execution_count": 2,
   "metadata": {},
   "outputs": [],
   "source": [
    "# gui = GUI(img_file='E:\\\\Mulong\\\\Datasets\\\\gui\\\\rico\\\\combined\\\\all\\\\10727.jpg', output_dir='E:\\\\Mulong\\\\Result\\\\rico-layout\\\\result')"
   ]
  },
  {
   "cell_type": "code",
   "execution_count": 3,
   "metadata": {},
   "outputs": [],
   "source": [
    "gui = GUI(img_file='data/input/2.jpg')"
   ]
  },
  {
   "cell_type": "code",
   "execution_count": 4,
   "metadata": {},
   "outputs": [],
   "source": [
    "gui.element_detection(img_resize_longest_side=None)\n",
    "gui.visualize_element_detection(is_resize_showing=False)"
   ]
  },
  {
   "cell_type": "code",
   "execution_count": 5,
   "metadata": {
    "scrolled": false
   },
   "outputs": [
    {
     "name": "stdout",
     "output_type": "stream",
     "text": [
      "[Layout Recognition Completed in 1.164 s] Input: data/input/2.jpg Output: data/output\\layout\\2.json\n"
     ]
    }
   ],
   "source": [
    "gui.layout_recognition()\n",
    "gui.visualize_layout_recognition(is_resize_showing=False)"
   ]
  },
  {
   "cell_type": "code",
   "execution_count": 6,
   "metadata": {},
   "outputs": [],
   "source": [
    "gui.visualize_element_detection(is_resize_showing=False)"
   ]
  },
  {
   "cell_type": "code",
   "execution_count": 6,
   "metadata": {},
   "outputs": [],
   "source": [
    "gui.visualize_layout_recognition(is_resize_showing=False)"
   ]
  },
  {
   "cell_type": "code",
   "execution_count": null,
   "metadata": {},
   "outputs": [],
   "source": []
  },
  {
   "cell_type": "code",
   "execution_count": null,
   "metadata": {},
   "outputs": [],
   "source": []
  },
  {
   "cell_type": "code",
   "execution_count": null,
   "metadata": {},
   "outputs": [],
   "source": []
  },
  {
   "cell_type": "code",
   "execution_count": 8,
   "metadata": {},
   "outputs": [],
   "source": [
    "df = gui.compos_df.compos_dataframe"
   ]
  },
  {
   "cell_type": "code",
   "execution_count": 9,
   "metadata": {},
   "outputs": [
    {
     "data": {
      "text/html": [
       "<div>\n",
       "<style scoped>\n",
       "    .dataframe tbody tr th:only-of-type {\n",
       "        vertical-align: middle;\n",
       "    }\n",
       "\n",
       "    .dataframe tbody tr th {\n",
       "        vertical-align: top;\n",
       "    }\n",
       "\n",
       "    .dataframe thead th {\n",
       "        text-align: right;\n",
       "    }\n",
       "</style>\n",
       "<table border=\"1\" class=\"dataframe\">\n",
       "  <thead>\n",
       "    <tr style=\"text-align: right;\">\n",
       "      <th></th>\n",
       "      <th>id</th>\n",
       "      <th>class</th>\n",
       "      <th>column_min</th>\n",
       "      <th>column_max</th>\n",
       "      <th>row_min</th>\n",
       "      <th>row_max</th>\n",
       "      <th>height</th>\n",
       "      <th>width</th>\n",
       "      <th>area</th>\n",
       "      <th>center</th>\n",
       "      <th>...</th>\n",
       "      <th>center_row</th>\n",
       "      <th>text_content</th>\n",
       "      <th>children</th>\n",
       "      <th>parent</th>\n",
       "      <th>alignment_in_group</th>\n",
       "      <th>gap</th>\n",
       "      <th>group</th>\n",
       "      <th>pair_to</th>\n",
       "      <th>group_pair</th>\n",
       "      <th>list_item</th>\n",
       "    </tr>\n",
       "  </thead>\n",
       "  <tbody>\n",
       "    <tr>\n",
       "      <th>36</th>\n",
       "      <td>36</td>\n",
       "      <td>Text</td>\n",
       "      <td>1000</td>\n",
       "      <td>1034</td>\n",
       "      <td>67</td>\n",
       "      <td>82</td>\n",
       "      <td>15</td>\n",
       "      <td>34</td>\n",
       "      <td>510</td>\n",
       "      <td>(1017.0, 74.5)</td>\n",
       "      <td>...</td>\n",
       "      <td>74.5</td>\n",
       "      <td>Reset</td>\n",
       "      <td>-1</td>\n",
       "      <td>-1</td>\n",
       "      <td>v</td>\n",
       "      <td>84</td>\n",
       "      <td>t-3</td>\n",
       "      <td>39</td>\n",
       "      <td>1</td>\n",
       "      <td>0</td>\n",
       "    </tr>\n",
       "    <tr>\n",
       "      <th>38</th>\n",
       "      <td>38</td>\n",
       "      <td>Text</td>\n",
       "      <td>994</td>\n",
       "      <td>1078</td>\n",
       "      <td>166</td>\n",
       "      <td>205</td>\n",
       "      <td>39</td>\n",
       "      <td>84</td>\n",
       "      <td>3276</td>\n",
       "      <td>(1036.0, 185.5)</td>\n",
       "      <td>...</td>\n",
       "      <td>185.5</td>\n",
       "      <td>Connect Connect</td>\n",
       "      <td>-1</td>\n",
       "      <td>-1</td>\n",
       "      <td>v</td>\n",
       "      <td>81</td>\n",
       "      <td>t-3</td>\n",
       "      <td>41</td>\n",
       "      <td>1</td>\n",
       "      <td>1</td>\n",
       "    </tr>\n",
       "    <tr>\n",
       "      <th>40</th>\n",
       "      <td>40</td>\n",
       "      <td>Text</td>\n",
       "      <td>996</td>\n",
       "      <td>1078</td>\n",
       "      <td>286</td>\n",
       "      <td>330</td>\n",
       "      <td>44</td>\n",
       "      <td>82</td>\n",
       "      <td>3608</td>\n",
       "      <td>(1037.0, 308.0)</td>\n",
       "      <td>...</td>\n",
       "      <td>308.0</td>\n",
       "      <td>Connect Connect</td>\n",
       "      <td>-1</td>\n",
       "      <td>-1</td>\n",
       "      <td>v</td>\n",
       "      <td>91</td>\n",
       "      <td>t-3</td>\n",
       "      <td>44</td>\n",
       "      <td>1</td>\n",
       "      <td>2</td>\n",
       "    </tr>\n",
       "    <tr>\n",
       "      <th>43</th>\n",
       "      <td>43</td>\n",
       "      <td>Text</td>\n",
       "      <td>994</td>\n",
       "      <td>1081</td>\n",
       "      <td>421</td>\n",
       "      <td>474</td>\n",
       "      <td>53</td>\n",
       "      <td>87</td>\n",
       "      <td>4611</td>\n",
       "      <td>(1037.5, 447.5)</td>\n",
       "      <td>...</td>\n",
       "      <td>447.5</td>\n",
       "      <td>Connect Connect</td>\n",
       "      <td>-1</td>\n",
       "      <td>-1</td>\n",
       "      <td>v</td>\n",
       "      <td>69</td>\n",
       "      <td>t-3</td>\n",
       "      <td>46</td>\n",
       "      <td>1</td>\n",
       "      <td>3</td>\n",
       "    </tr>\n",
       "    <tr>\n",
       "      <th>45</th>\n",
       "      <td>45</td>\n",
       "      <td>Text</td>\n",
       "      <td>997</td>\n",
       "      <td>1080</td>\n",
       "      <td>543</td>\n",
       "      <td>590</td>\n",
       "      <td>47</td>\n",
       "      <td>83</td>\n",
       "      <td>3901</td>\n",
       "      <td>(1038.5, 566.5)</td>\n",
       "      <td>...</td>\n",
       "      <td>566.5</td>\n",
       "      <td>Connect Connect</td>\n",
       "      <td>-1</td>\n",
       "      <td>-1</td>\n",
       "      <td>v</td>\n",
       "      <td>-1</td>\n",
       "      <td>t-3</td>\n",
       "      <td>47</td>\n",
       "      <td>1</td>\n",
       "      <td>4</td>\n",
       "    </tr>\n",
       "  </tbody>\n",
       "</table>\n",
       "<p>5 rows × 21 columns</p>\n",
       "</div>"
      ],
      "text/plain": [
       "    id class  column_min  column_max  row_min  row_max  height  width  area  \\\n",
       "36  36  Text        1000        1034       67       82      15     34   510   \n",
       "38  38  Text         994        1078      166      205      39     84  3276   \n",
       "40  40  Text         996        1078      286      330      44     82  3608   \n",
       "43  43  Text         994        1081      421      474      53     87  4611   \n",
       "45  45  Text         997        1080      543      590      47     83  3901   \n",
       "\n",
       "             center    ...      center_row     text_content children parent  \\\n",
       "36   (1017.0, 74.5)    ...            74.5            Reset       -1     -1   \n",
       "38  (1036.0, 185.5)    ...           185.5  Connect Connect       -1     -1   \n",
       "40  (1037.0, 308.0)    ...           308.0  Connect Connect       -1     -1   \n",
       "43  (1037.5, 447.5)    ...           447.5  Connect Connect       -1     -1   \n",
       "45  (1038.5, 566.5)    ...           566.5  Connect Connect       -1     -1   \n",
       "\n",
       "    alignment_in_group gap  group pair_to  group_pair  list_item  \n",
       "36                   v  84    t-3      39           1          0  \n",
       "38                   v  81    t-3      41           1          1  \n",
       "40                   v  91    t-3      44           1          2  \n",
       "43                   v  69    t-3      46           1          3  \n",
       "45                   v  -1    t-3      47           1          4  \n",
       "\n",
       "[5 rows x 21 columns]"
      ]
     },
     "execution_count": 9,
     "metadata": {},
     "output_type": "execute_result"
    }
   ],
   "source": [
    "df[df['group'] == 't-3']"
   ]
  },
  {
   "cell_type": "code",
   "execution_count": null,
   "metadata": {},
   "outputs": [],
   "source": []
  },
  {
   "cell_type": "code",
   "execution_count": null,
   "metadata": {},
   "outputs": [],
   "source": []
  },
  {
   "cell_type": "code",
   "execution_count": 17,
   "metadata": {},
   "outputs": [
    {
     "data": {
      "text/plain": [
       "(800, 673, 3)"
      ]
     },
     "execution_count": 17,
     "metadata": {},
     "output_type": "execute_result"
    }
   ],
   "source": [
    "gui.resize_by_longest_side()"
   ]
  },
  {
   "cell_type": "code",
   "execution_count": null,
   "metadata": {},
   "outputs": [],
   "source": []
  },
  {
   "cell_type": "code",
   "execution_count": null,
   "metadata": {},
   "outputs": [],
   "source": []
  },
  {
   "cell_type": "code",
   "execution_count": 6,
   "metadata": {},
   "outputs": [],
   "source": [
    "gui.cvt_compos_json_to_dataframe()"
   ]
  },
  {
   "cell_type": "code",
   "execution_count": 7,
   "metadata": {},
   "outputs": [],
   "source": [
    "gui.compos_df.repetitive_group_recognition(show=False)"
   ]
  },
  {
   "cell_type": "code",
   "execution_count": 7,
   "metadata": {},
   "outputs": [],
   "source": [
    "gui.compos_df.pair_groups()"
   ]
  },
  {
   "cell_type": "code",
   "execution_count": 10,
   "metadata": {},
   "outputs": [],
   "source": [
    "b = gui.visualize_compos_df('group')"
   ]
  },
  {
   "cell_type": "code",
   "execution_count": null,
   "metadata": {},
   "outputs": [],
   "source": []
  },
  {
   "cell_type": "code",
   "execution_count": null,
   "metadata": {},
   "outputs": [],
   "source": []
  },
  {
   "cell_type": "code",
   "execution_count": null,
   "metadata": {},
   "outputs": [],
   "source": []
  },
  {
   "cell_type": "code",
   "execution_count": 63,
   "metadata": {},
   "outputs": [],
   "source": [
    "gui.compos_df.compos_dataframe = df"
   ]
  },
  {
   "cell_type": "code",
   "execution_count": 6,
   "metadata": {},
   "outputs": [],
   "source": [
    "df = gui.compos_df.compos_dataframe"
   ]
  },
  {
   "cell_type": "code",
   "execution_count": 8,
   "metadata": {},
   "outputs": [],
   "source": [
    "pair = df.groupby('group_pair').groups[1]\n",
    "pair_all_compos = df.loc[pair]"
   ]
  },
  {
   "cell_type": "code",
   "execution_count": 9,
   "metadata": {},
   "outputs": [],
   "source": [
    "paired_groups = pair_all_compos.groupby('group').groups"
   ]
  },
  {
   "cell_type": "code",
   "execution_count": 10,
   "metadata": {},
   "outputs": [
    {
     "data": {
      "text/plain": [
       "{'nt-0': Int64Index([3, 5, 7], dtype='int64'),\n",
       " 'nt-1': Int64Index([4, 6, 8], dtype='int64'),\n",
       " 't-0': Int64Index([12, 14, 16], dtype='int64'),\n",
       " 't-1': Int64Index([13, 17], dtype='int64')}"
      ]
     },
     "execution_count": 10,
     "metadata": {},
     "output_type": "execute_result"
    }
   ],
   "source": [
    "paired_groups"
   ]
  },
  {
   "cell_type": "code",
   "execution_count": null,
   "metadata": {},
   "outputs": [],
   "source": []
  },
  {
   "cell_type": "code",
   "execution_count": null,
   "metadata": {},
   "outputs": [],
   "source": []
  },
  {
   "cell_type": "code",
   "execution_count": null,
   "metadata": {},
   "outputs": [],
   "source": []
  },
  {
   "cell_type": "code",
   "execution_count": null,
   "metadata": {},
   "outputs": [],
   "source": []
  },
  {
   "cell_type": "code",
   "execution_count": 8,
   "metadata": {},
   "outputs": [],
   "source": [
    "gui.cvt_compos_json_to_dataframe()\n",
    "gui.compos_df.repetitive_group_recognition(show=True)"
   ]
  },
  {
   "cell_type": "code",
   "execution_count": 7,
   "metadata": {},
   "outputs": [],
   "source": [
    "gui.compos_df.calc_gap_in_group()"
   ]
  },
  {
   "cell_type": "code",
   "execution_count": 9,
   "metadata": {},
   "outputs": [],
   "source": [
    "df = gui.compos_df.compos_dataframe\n",
    "g_nt1 = df[df['group'] == 'nt-1']\n",
    "g_t3 = df[df['group'] == 't-3']"
   ]
  },
  {
   "cell_type": "code",
   "execution_count": 10,
   "metadata": {},
   "outputs": [
    {
     "name": "stdout",
     "output_type": "stream",
     "text": [
      "[-1, -1] Corner Angles: [1, -2] Center Angles: [10, 3]\n"
     ]
    },
    {
     "name": "stderr",
     "output_type": "stream",
     "text": [
      "D:\\Anaconda\\lib\\site-packages\\pandas\\core\\indexing.py:362: SettingWithCopyWarning: \n",
      "A value is trying to be set on a copy of a slice from a DataFrame.\n",
      "Try using .loc[row_indexer,col_indexer] = value instead\n",
      "\n",
      "See the caveats in the documentation: http://pandas.pydata.org/pandas-docs/stable/indexing.html#indexing-view-versus-copy\n",
      "  self.obj[key] = _infer_fill_value(value)\n",
      "D:\\Anaconda\\lib\\site-packages\\pandas\\core\\indexing.py:543: SettingWithCopyWarning: \n",
      "A value is trying to be set on a copy of a slice from a DataFrame.\n",
      "Try using .loc[row_indexer,col_indexer] = value instead\n",
      "\n",
      "See the caveats in the documentation: http://pandas.pydata.org/pandas-docs/stable/indexing.html#indexing-view-versus-copy\n",
      "  self.obj[item] = s\n"
     ]
    },
    {
     "data": {
      "text/plain": [
       "True"
      ]
     },
     "execution_count": 10,
     "metadata": {},
     "output_type": "execute_result"
    }
   ],
   "source": [
    "pairing.match_two_groups_by_angles_and_y_distance(g_nt1, g_t3)"
   ]
  }
 ],
 "metadata": {
  "kernelspec": {
   "display_name": "Python 3",
   "language": "python",
   "name": "python3"
  },
  "language_info": {
   "codemirror_mode": {
    "name": "ipython",
    "version": 3
   },
   "file_extension": ".py",
   "mimetype": "text/x-python",
   "name": "python",
   "nbconvert_exporter": "python",
   "pygments_lexer": "ipython3",
   "version": "3.5.6"
  }
 },
 "nbformat": 4,
 "nbformat_minor": 2
}
